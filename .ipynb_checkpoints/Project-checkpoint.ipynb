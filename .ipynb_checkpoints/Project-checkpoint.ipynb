{
 "cells": [
  {
   "cell_type": "code",
   "execution_count": 31,
   "id": "569ab156",
   "metadata": {},
   "outputs": [],
   "source": [
    "import warnings\n",
    "warnings.filterwarnings(\"ignore\")\n",
    "import tensorflow as tf\n",
    "import pandas as pd\n",
    "from sklearn.model_selection import train_test_split\n",
    "import numpy as np\n",
    "import matplotlib.pyplot as plt\n",
    "import random\n",
    "from tqdm.notebook import tqdm\n",
    "from statistics import mean, variance\n",
    "from functools import lru_cache\n",
    "from math import sqrt\n",
    "from typing import List, Tuple\n",
    "import itertools\n",
    "import json\n",
    "from IPython.display import clear_output\n",
    "import os\n",
    "import time"
   ]
  },
  {
   "cell_type": "code",
   "execution_count": 8,
   "id": "d8287844",
   "metadata": {},
   "outputs": [],
   "source": [
    "mnist = tf.keras.datasets.mnist\n",
    "(x_train, y_train), (x_test, y_test) = mnist.load_data()"
   ]
  },
  {
   "cell_type": "code",
   "execution_count": 9,
   "id": "407f2b5c",
   "metadata": {},
   "outputs": [],
   "source": [
    "#Initializing parameters\n",
    "input_shape = (28, 28, 1)\n",
    "#batch_size = 64\n",
    "#num_classes = 10\n",
    "#epochs = 5\n",
    "\n",
    "#Cleaning data\n",
    "x_train=x_train.reshape(x_train.shape[0], x_train.shape[1], x_train.shape[2], 1)\n",
    "x_train=x_train / 255.0\n",
    "x_test = x_test.reshape(x_test.shape[0], x_test.shape[1], x_test.shape[2], 1)\n",
    "x_test=x_test/255.0\n",
    "\n",
    "y_train = tf.one_hot(y_train.astype(np.int32), depth=10)\n",
    "y_test = tf.one_hot(y_test.astype(np.int32), depth=10)"
   ]
  },
  {
   "cell_type": "code",
   "execution_count": 47,
   "id": "50d1087a",
   "metadata": {},
   "outputs": [],
   "source": [
    "def make_model(\n",
    "    cnn_layer_sizes : List[Tuple[int, Tuple[int, int]]],\n",
    "    dense_layer_sizes : List[int]\n",
    "):\n",
    "    activation_function = 'relu'\n",
    "    model = tf.keras.models.Sequential()\n",
    "    model.add(tf.keras.Input(input_shape))\n",
    "    for i in range(len(cnn_layer_sizes)-1):\n",
    "        model.add(tf.keras.layers.Conv2D(cnn_layer_sizes[i][0], cnn_layer_sizes[i][1], activation=activation_function))\n",
    "        model.add(tf.keras.layers.MaxPooling2D((2, 2)))\n",
    "    if len(cnn_layer_sizes) > 0:\n",
    "        model.add(tf.keras.layers.Conv2D(cnn_layer_sizes[-1][0], cnn_layer_sizes[-1][1], activation=activation_function))\n",
    "    model.add(tf.keras.layers.Flatten())\n",
    "    for elem in dense_layer_sizes:\n",
    "        model.add(tf.keras.layers.Dense(elem, activation = activation_function))\n",
    "    model.add(tf.keras.layers.Dense(10, activation = 'softmax'))\n",
    "    model.compile(optimizer=tf.keras.optimizers.RMSprop(epsilon=1e-08), loss='categorical_crossentropy', metrics=['acc'])\n",
    "    return model\n",
    "\n",
    "def find_screens_that_mess_with_model(model):\n",
    "    pass"
   ]
  },
  {
   "cell_type": "code",
   "execution_count": 11,
   "id": "d27c5b11",
   "metadata": {
    "scrolled": true
   },
   "outputs": [
    {
     "data": {
      "text/plain": [
       "\"callbacks = myCallback()\\n\\nmodel = make_model([(10, (5,5)), (5, (3,3))], [64, 64], 'tanh')\\n\\nhistory = model.fit(x_train, y_train,\\n                    batch_size=batch_size,\\n                    epochs=5,\\n                    validation_split=0.1,\\n                    callbacks=[callbacks])\""
      ]
     },
     "execution_count": 11,
     "metadata": {},
     "output_type": "execute_result"
    }
   ],
   "source": [
    "class myCallback(tf.keras.callbacks.Callback):\n",
    "    def on_epoch_end(self, epoch, logs={}):\n",
    "        if(logs.get('acc')>0.995):\n",
    "            print(\"\\nReached 99.5% accuracy so cancelling training!\")\n",
    "            self.modelel.stop_training = True\n",
    "\n",
    "\"\"\"callbacks = myCallback()\n",
    "\n",
    "model = make_model([(10, (5,5)), (5, (3,3))], [64, 64], 'tanh')\n",
    "\n",
    "history = model.fit(x_train, y_train,\n",
    "                    batch_size=batch_size,\n",
    "                    epochs=5,\n",
    "                    validation_split=0.1,\n",
    "                    callbacks=[callbacks])\"\"\""
   ]
  },
  {
   "cell_type": "code",
   "execution_count": 48,
   "id": "0cff45f9",
   "metadata": {},
   "outputs": [
    {
     "name": "stdout",
     "output_type": "stream",
     "text": [
      "22/1113840 - 0.0% - 333.94\n",
      "Epoch 1/4\n",
      "841/844 [============================>.] - ETA: 0s - loss: 0.3218 - acc: 0.9058"
     ]
    },
    {
     "name": "stderr",
     "output_type": "stream",
     "text": [
      "\n",
      "KeyboardInterrupt\n",
      "\n"
     ]
    }
   ],
   "source": [
    "#CONFIGURATIONS\n",
    "cnn_layer_depth = [0,1,2]\n",
    "cnn_layer_dimensions = [(3,3), (4,4), (5,5)]\n",
    "num_cnn_layers = [1,2,3]\n",
    "num_dense_layers = [1,2,3,4]\n",
    "dense_layer_sizes = [32, 64, 128, 256]\n",
    "batch_size = 64\n",
    "\n",
    "def gen_cnn_layer_combinations():\n",
    "    L = []\n",
    "    for layer in num_cnn_layers:\n",
    "        for dim in cnn_layer_dimensions:\n",
    "            L.append((layer, dim))\n",
    "    return L\n",
    "\n",
    "def send_to_github(filename):\n",
    "    os.system(f\"git add {filename}\")\n",
    "    os.system(\"git add model_info.json\")\n",
    "    os.system(\"git add stop_index.txt\")\n",
    "    os.system(f\"git commit -m \\\"Added {filename}\\\"\")\n",
    "    os.system(f\"git push origin main\")\n",
    "    os.system(f\"rm -r {filename}\")\n",
    "    return\n",
    "    \n",
    "class myCallback(tf.keras.callbacks.Callback):\n",
    "    def on_epoch_end(self, epoch, logs={}):\n",
    "        if(logs.get('acc')>0.995):\n",
    "            print(\"\\nReached 99.5% accuracy so cancelling training!\")\n",
    "            self.modelel.stop_training = True\n",
    "\n",
    "def iterate_combinations():\n",
    "    try:\n",
    "        with open('stop_index.txt', 'r') as file:\n",
    "            stop_index = int(file.read())\n",
    "            \n",
    "    except:\n",
    "        stop_index = -1\n",
    "    \n",
    "    counter = 0\n",
    "    \n",
    "    try:\n",
    "        with open('model_info.json', 'r') as file:\n",
    "            models_info = json.load(file)\n",
    "    except FileNotFoundError:\n",
    "        models_info = {\n",
    "            \"CNN\" : [],\n",
    "            \"Dense\" : [],\n",
    "            \"batch_size\" : [],\n",
    "            \"filename\" : [],\n",
    "            \"accuracy\" : []\n",
    "        }\n",
    "    \n",
    "    total = 819 * 340\n",
    "    start = time.time()\n",
    "    for cnn_depth in cnn_layer_depth:\n",
    "        for cnn_layer_dim in itertools.product(gen_cnn_layer_combinations(), repeat=cnn_depth):\n",
    "            for dense_depth in num_dense_layers:\n",
    "                for dense_layers in itertools.product(dense_layer_sizes, repeat=dense_depth):\n",
    "                    print(f\"{counter}/{total} - {round((counter / total) * 100, 2)}% - {round(time.time() - start, 2)}\")\n",
    "                    if counter > stop_index:\n",
    "                        callbacks = myCallback()\n",
    "                        model = make_model(list(cnn_layer_dim), list(dense_layers))\n",
    "                        history = model.fit(x_train, y_train,\n",
    "                            batch_size=batch_size,\n",
    "                            epochs=4,\n",
    "                            validation_split=0.1,\n",
    "                            callbacks=[callbacks])\n",
    "                        filename = f'model_configs/model{counter}_savefile'\n",
    "                        model.save(filename)\n",
    "                        send_to_github(filename)\n",
    "                        models_info['CNN'].append(str([cnn_layer_dim]))\n",
    "                        models_info['Dense'].append(str([dense_layers]))\n",
    "                        models_info['batch_size'].append(batch_size)\n",
    "                        models_info['filename'].append(filename)\n",
    "                        models_info['accuracy'].append(history.history['acc'][-1])\n",
    "                        with open('model_info.json', 'w') as file:\n",
    "                            json.dump(models_info, file, indent=4)\n",
    "                        with open('stop_index.txt', 'w') as file:\n",
    "                            file.write(str(counter))\n",
    "                    clear_output(wait=True)\n",
    "                    counter += 1\n",
    "    return \n",
    "\n",
    "iterate_combinations()"
   ]
  }
 ],
 "metadata": {
  "kernelspec": {
   "display_name": "Python 3 (ipykernel)",
   "language": "python",
   "name": "python3"
  },
  "language_info": {
   "codemirror_mode": {
    "name": "ipython",
    "version": 3
   },
   "file_extension": ".py",
   "mimetype": "text/x-python",
   "name": "python",
   "nbconvert_exporter": "python",
   "pygments_lexer": "ipython3",
   "version": "3.9.12"
  }
 },
 "nbformat": 4,
 "nbformat_minor": 5
}
