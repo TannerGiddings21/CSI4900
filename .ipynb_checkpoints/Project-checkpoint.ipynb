{
 "cells": [
  {
   "cell_type": "code",
   "execution_count": 7,
   "id": "569ab156",
   "metadata": {},
   "outputs": [],
   "source": [
    "import warnings\n",
    "warnings.filterwarnings(\"ignore\")\n",
    "import tensorflow as tf\n",
    "import pandas as pd\n",
    "from sklearn.model_selection import train_test_split\n",
    "import numpy as np\n",
    "import matplotlib.pyplot as plt\n",
    "import random\n",
    "from tqdm.notebook import tqdm\n",
    "from statistics import mean, variance\n",
    "from functools import lru_cache\n",
    "from math import sqrt\n",
    "from typing import List, Tuple\n",
    "import itertools\n",
    "import json\n",
    "import os"
   ]
  },
  {
   "cell_type": "code",
   "execution_count": 8,
   "id": "d8287844",
   "metadata": {},
   "outputs": [],
   "source": [
    "mnist = tf.keras.datasets.mnist\n",
    "(x_train, y_train), (x_test, y_test) = mnist.load_data()"
   ]
  },
  {
   "cell_type": "code",
   "execution_count": 9,
   "id": "407f2b5c",
   "metadata": {},
   "outputs": [],
   "source": [
    "#Initializing parameters\n",
    "input_shape = (28, 28, 1)\n",
    "#batch_size = 64\n",
    "#num_classes = 10\n",
    "#epochs = 5\n",
    "\n",
    "#Cleaning data\n",
    "x_train=x_train.reshape(x_train.shape[0], x_train.shape[1], x_train.shape[2], 1)\n",
    "x_train=x_train / 255.0\n",
    "x_test = x_test.reshape(x_test.shape[0], x_test.shape[1], x_test.shape[2], 1)\n",
    "x_test=x_test/255.0\n",
    "\n",
    "y_train = tf.one_hot(y_train.astype(np.int32), depth=10)\n",
    "y_test = tf.one_hot(y_test.astype(np.int32), depth=10)"
   ]
  },
  {
   "cell_type": "code",
   "execution_count": 10,
   "id": "50d1087a",
   "metadata": {},
   "outputs": [],
   "source": [
    "def make_model(\n",
    "    cnn_layer_sizes : List[Tuple[int, Tuple[int, int]]],\n",
    "    dense_layer_sizes : List[int],\n",
    "    activation_function : str\n",
    "):\n",
    "    model = tf.keras.models.Sequential()\n",
    "    model.add(tf.keras.Input(input_shape))\n",
    "    for i in range(len(cnn_layer_sizes)-1):\n",
    "        model.add(tf.keras.layers.Conv2D(cnn_layer_sizes[i][0], cnn_layer_sizes[i][1], activation=activation_function))\n",
    "        model.add(tf.keras.layers.MaxPooling2D((2, 2)))\n",
    "    if len(cnn_layer_sizes) > 0:\n",
    "        model.add(tf.keras.layers.Conv2D(cnn_layer_sizes[-1][0], cnn_layer_sizes[-1][1], activation=activation_function))\n",
    "    model.add(tf.keras.layers.Flatten())\n",
    "    for elem in dense_layer_sizes:\n",
    "        model.add(tf.keras.layers.Dense(elem, activation = activation_function))\n",
    "    model.add(tf.keras.layers.Dense(10, activation = 'softmax'))\n",
    "    model.compile(optimizer=tf.keras.optimizers.RMSprop(epsilon=1e-08), loss='categorical_crossentropy', metrics=['acc'])\n",
    "    return model\n",
    "\n",
    "def find_screens_that_mess_with_model(model):\n",
    "    pass"
   ]
  },
  {
   "cell_type": "code",
   "execution_count": 11,
   "id": "d27c5b11",
   "metadata": {
    "scrolled": true
   },
   "outputs": [
    {
     "data": {
      "text/plain": [
       "\"callbacks = myCallback()\\n\\nmodel = make_model([(10, (5,5)), (5, (3,3))], [64, 64], 'tanh')\\n\\nhistory = model.fit(x_train, y_train,\\n                    batch_size=batch_size,\\n                    epochs=5,\\n                    validation_split=0.1,\\n                    callbacks=[callbacks])\""
      ]
     },
     "execution_count": 11,
     "metadata": {},
     "output_type": "execute_result"
    }
   ],
   "source": [
    "class myCallback(tf.keras.callbacks.Callback):\n",
    "    def on_epoch_end(self, epoch, logs={}):\n",
    "        if(logs.get('acc')>0.995):\n",
    "            print(\"\\nReached 99.5% accuracy so cancelling training!\")\n",
    "            self.modelel.stop_training = True\n",
    "\n",
    "\"\"\"callbacks = myCallback()\n",
    "\n",
    "model = make_model([(10, (5,5)), (5, (3,3))], [64, 64], 'tanh')\n",
    "\n",
    "history = model.fit(x_train, y_train,\n",
    "                    batch_size=batch_size,\n",
    "                    epochs=5,\n",
    "                    validation_split=0.1,\n",
    "                    callbacks=[callbacks])\"\"\""
   ]
  },
  {
   "cell_type": "code",
   "execution_count": 13,
   "id": "0cff45f9",
   "metadata": {},
   "outputs": [
    {
     "data": {
      "application/vnd.jupyter.widget-view+json": {
       "model_id": "a59263a3604a4117abc3713a8d397d16",
       "version_major": 2,
       "version_minor": 0
      },
      "text/plain": [
       "  0%|          | 0/22042800 [00:00<?, ?it/s]"
      ]
     },
     "metadata": {},
     "output_type": "display_data"
    },
    {
     "name": "stdout",
     "output_type": "stream",
     "text": [
      "Epoch 1/2\n",
      "13500/13500 [==============================] - 12s 891us/step - loss: 0.5708 - acc: 0.8280 - val_loss: 0.3259 - val_acc: 0.9008\n",
      "Epoch 2/2\n",
      "13500/13500 [==============================] - 13s 928us/step - loss: 0.4037 - acc: 0.8820 - val_loss: 0.2997 - val_acc: 0.9098\n"
     ]
    },
    {
     "name": "stderr",
     "output_type": "stream",
     "text": [
      "WARNING:absl:Found untraced functions such as _jit_compiled_convolution_op while saving (showing 1 of 1). These functions will not be directly callable after loading.\n"
     ]
    },
    {
     "name": "stdout",
     "output_type": "stream",
     "text": [
      "INFO:tensorflow:Assets written to: model_configs/model0.json/assets\n"
     ]
    },
    {
     "name": "stderr",
     "output_type": "stream",
     "text": [
      "INFO:tensorflow:Assets written to: model_configs/model0.json/assets\n"
     ]
    },
    {
     "name": "stdout",
     "output_type": "stream",
     "text": [
      "[main 0afdd69] Added model_configs/model0.json\n",
      " 4 files changed, 8 insertions(+), 8 deletions(-)\n",
      " rewrite model_configs/model0.json/keras_metadata.pb (86%)\n",
      " rewrite model_configs/model0.json/variables/variables.data-00000-of-00001 (93%)\n",
      " rewrite model_configs/model0.json/variables/variables.index (73%)\n"
     ]
    },
    {
     "name": "stderr",
     "output_type": "stream",
     "text": [
      "To https://github.com/TannerGiddings21/CSI4900.git\n",
      "   7afe394..0afdd69  main -> main\n",
      "rm: model_configs/model0.json: is a directory\n"
     ]
    }
   ],
   "source": [
    "#CONFIGURATIONS\n",
    "cnn_layer_depth = [1,2,3]\n",
    "cnn_layer_dimensions = [(2,2), (3,3), (4,4), (5,5)]\n",
    "num_cnn_layers = [1,2,3]\n",
    "num_dense_layers = [1,2,3,4]\n",
    "dense_layer_sizes = [16, 32, 64, 128, 256]\n",
    "activation_functions = ['relu', 'sigmoid', 'tanh']\n",
    "batch_sizes = [4, 8, 16, 32, 64]\n",
    "\n",
    "def gen_cnn_layer_combinations():\n",
    "    L = []\n",
    "    for layer in num_cnn_layers:\n",
    "        for dim in cnn_layer_dimensions:\n",
    "            L.append((layer, dim))\n",
    "    return L\n",
    "\n",
    "def send_to_github(filename):\n",
    "    os.system(f\"git add {filename}\")\n",
    "    os.system(f\"git commit -m \\\"Added {filename}\\\"\")\n",
    "    os.system(f\"git push origin main\")\n",
    "    os.system(f\"rm -r {filename}\")\n",
    "    return\n",
    "    \n",
    "class myCallback(tf.keras.callbacks.Callback):\n",
    "    def on_epoch_end(self, epoch, logs={}):\n",
    "        if(logs.get('acc')>0.995):\n",
    "            print(\"\\nReached 99.5% accuracy so cancelling training!\")\n",
    "            self.modelel.stop_training = True\n",
    "\n",
    "def iterate_combinations():\n",
    "    counter = 0\n",
    "    \n",
    "    models_info = {\n",
    "        \"CNN\" : [],\n",
    "        \"Dense\" : [],\n",
    "        \"act_func\" : [],\n",
    "        \"batch_size\" : [],\n",
    "        \"filename\" : [],\n",
    "        \"accuracy\" : []\n",
    "    }\n",
    "    \n",
    "    pbar = tqdm(total = 1884 * 780 * 3 * 5)\n",
    "    for cnn_depth in cnn_layer_depth:\n",
    "        for cnn_layer_dim in itertools.product(gen_cnn_layer_combinations(), repeat=cnn_depth):\n",
    "            for dense_depth in num_dense_layers:\n",
    "                for dense_layers in itertools.product(dense_layer_sizes, repeat=dense_depth):\n",
    "                    for a_func in activation_functions:\n",
    "                        for batch_size in batch_sizes:\n",
    "                            callbacks = myCallback()\n",
    "                            model = make_model(list(cnn_layer_dim), list(dense_layers), a_func)\n",
    "                            history = model.fit(x_train, y_train,\n",
    "                                batch_size=batch_size,\n",
    "                                epochs=2,\n",
    "                                validation_split=0.1,\n",
    "                                callbacks=[callbacks])\n",
    "                            filename = f'model_configs/model{counter}_savefile'\n",
    "                            model.save(filename)\n",
    "                            send_to_github(filename)\n",
    "                            counter += 1\n",
    "                            models_info['CNN'].append(cnn_layer_dim)\n",
    "                            models_info['Dense'].append(dense_layers)\n",
    "                            models_info['act_func'].append(a_func)\n",
    "                            models_info['batch_size'].append(batch_size)\n",
    "                            models_info['filename'].append(filename)\n",
    "                            models_info['accuracy'].append(history.history['acc'][-1])\n",
    "                            pbar.update(1)\n",
    "                            return\n",
    "    return models_info\n",
    "\n",
    "iterate_combinations()"
   ]
  },
  {
   "cell_type": "code",
   "execution_count": null,
   "id": "d7ddd424",
   "metadata": {},
   "outputs": [],
   "source": []
  }
 ],
 "metadata": {
  "kernelspec": {
   "display_name": "Python 3 (ipykernel)",
   "language": "python",
   "name": "python3"
  },
  "language_info": {
   "codemirror_mode": {
    "name": "ipython",
    "version": 3
   },
   "file_extension": ".py",
   "mimetype": "text/x-python",
   "name": "python",
   "nbconvert_exporter": "python",
   "pygments_lexer": "ipython3",
   "version": "3.9.12"
  }
 },
 "nbformat": 4,
 "nbformat_minor": 5
}
