{
 "cells": [
  {
   "cell_type": "code",
   "execution_count": 31,
   "id": "569ab156",
   "metadata": {},
   "outputs": [],
   "source": [
    "import warnings\n",
    "warnings.filterwarnings(\"ignore\")\n",
    "import tensorflow as tf\n",
    "import pandas as pd\n",
    "from sklearn.model_selection import train_test_split\n",
    "import numpy as np\n",
    "import matplotlib.pyplot as plt\n",
    "import random\n",
    "from tqdm.notebook import tqdm\n",
    "from statistics import mean, variance\n",
    "from functools import lru_cache\n",
    "from math import sqrt\n",
    "from typing import List, Tuple\n",
    "import itertools\n",
    "import json\n",
    "from IPython.display import clear_output\n",
    "import os\n",
    "import time"
   ]
  },
  {
   "cell_type": "code",
   "execution_count": 8,
   "id": "d8287844",
   "metadata": {},
   "outputs": [],
   "source": [
    "mnist = tf.keras.datasets.mnist\n",
    "(x_train, y_train), (x_test, y_test) = mnist.load_data()"
   ]
  },
  {
   "cell_type": "code",
   "execution_count": 9,
   "id": "407f2b5c",
   "metadata": {},
   "outputs": [],
   "source": [
    "#Initializing parameters\n",
    "input_shape = (28, 28, 1)\n",
    "#batch_size = 64\n",
    "#num_classes = 10\n",
    "#epochs = 5\n",
    "\n",
    "#Cleaning data\n",
    "x_train=x_train.reshape(x_train.shape[0], x_train.shape[1], x_train.shape[2], 1)\n",
    "x_train=x_train / 255.0\n",
    "x_test = x_test.reshape(x_test.shape[0], x_test.shape[1], x_test.shape[2], 1)\n",
    "x_test=x_test/255.0\n",
    "\n",
    "y_train = tf.one_hot(y_train.astype(np.int32), depth=10)\n",
    "y_test = tf.one_hot(y_test.astype(np.int32), depth=10)"
   ]
  },
  {
   "cell_type": "code",
   "execution_count": 47,
   "id": "50d1087a",
   "metadata": {},
   "outputs": [],
   "source": [
    "def make_model(\n",
    "    cnn_layer_sizes : List[Tuple[int, Tuple[int, int]]],\n",
    "    dense_layer_sizes : List[int]\n",
    "):\n",
    "    activation_function = 'relu'\n",
    "    model = tf.keras.models.Sequential()\n",
    "    model.add(tf.keras.Input(input_shape))\n",
    "    for i in range(len(cnn_layer_sizes)-1):\n",
    "        model.add(tf.keras.layers.Conv2D(cnn_layer_sizes[i][0], cnn_layer_sizes[i][1], activation=activation_function))\n",
    "        model.add(tf.keras.layers.MaxPooling2D((2, 2)))\n",
    "    if len(cnn_layer_sizes) > 0:\n",
    "        model.add(tf.keras.layers.Conv2D(cnn_layer_sizes[-1][0], cnn_layer_sizes[-1][1], activation=activation_function))\n",
    "    model.add(tf.keras.layers.Flatten())\n",
    "    for elem in dense_layer_sizes:\n",
    "        model.add(tf.keras.layers.Dense(elem, activation = activation_function))\n",
    "    model.add(tf.keras.layers.Dense(10, activation = 'softmax'))\n",
    "    model.compile(optimizer=tf.keras.optimizers.RMSprop(epsilon=1e-08), loss='categorical_crossentropy', metrics=['acc'])\n",
    "    return model\n",
    "\n",
    "def find_screens_that_mess_with_model(model):\n",
    "    pass"
   ]
  },
  {
   "cell_type": "code",
   "execution_count": 11,
   "id": "d27c5b11",
   "metadata": {
    "scrolled": true
   },
   "outputs": [
    {
     "data": {
      "text/plain": [
       "\"callbacks = myCallback()\\n\\nmodel = make_model([(10, (5,5)), (5, (3,3))], [64, 64], 'tanh')\\n\\nhistory = model.fit(x_train, y_train,\\n                    batch_size=batch_size,\\n                    epochs=5,\\n                    validation_split=0.1,\\n                    callbacks=[callbacks])\""
      ]
     },
     "execution_count": 11,
     "metadata": {},
     "output_type": "execute_result"
    }
   ],
   "source": [
    "class myCallback(tf.keras.callbacks.Callback):\n",
    "    def on_epoch_end(self, epoch, logs={}):\n",
    "        if(logs.get('acc')>0.995):\n",
    "            print(\"\\nReached 99.5% accuracy so cancelling training!\")\n",
    "            self.modelel.stop_training = True\n",
    "\n",
    "\"\"\"callbacks = myCallback()\n",
    "\n",
    "model = make_model([(10, (5,5)), (5, (3,3))], [64, 64], 'tanh')\n",
    "\n",
    "history = model.fit(x_train, y_train,\n",
    "                    batch_size=batch_size,\n",
    "                    epochs=5,\n",
    "                    validation_split=0.1,\n",
    "                    callbacks=[callbacks])\"\"\""
   ]
  },
  {
   "cell_type": "code",
   "execution_count": 109,
   "id": "0cff45f9",
   "metadata": {
    "scrolled": true
   },
   "outputs": [],
   "source": [
    "#CONFIGURATIONS\n",
    "cnn_layer_depth = [0,1,2]\n",
    "cnn_layer_dimensions = [(3,3), (4,4), (5,5)]\n",
    "num_cnn_layers = [1,2,3]\n",
    "num_dense_layers = [1,2,3,4]\n",
    "dense_layer_sizes = [32, 64, 128, 256]\n",
    "batch_size = 64\n",
    "\n",
    "def gen_cnn_layer_combinations():\n",
    "    L = []\n",
    "    for layer in num_cnn_layers:\n",
    "        for dim in cnn_layer_dimensions:\n",
    "            L.append((layer, dim))\n",
    "    return L\n",
    "\n",
    "def send_model_to_github(filename):\n",
    "    os.system(f\"git add {filename}\")\n",
    "    os.system(f\"git commit -m \\\"Added {filename}\\\"\")\n",
    "    os.system(f\"git push origin main\")\n",
    "    os.system(f\"rm -r {filename}\")\n",
    "    return\n",
    "    \n",
    "class myCallback(tf.keras.callbacks.Callback):\n",
    "    def on_epoch_end(self, epoch, logs={}):\n",
    "        if(logs.get('acc')>0.995):\n",
    "            print(\"\\nReached 99.5% accuracy so cancelling training!\")\n",
    "            self.modelel.stop_training = True\n",
    "\n",
    "def iterate_combinations(starter):\n",
    "    counter = 0\n",
    "    for cnn_depth in cnn_layer_depth:\n",
    "        for cnn_layer_dim in itertools.product(gen_cnn_layer_combinations(), repeat=cnn_depth):\n",
    "            for dense_depth in num_dense_layers:\n",
    "                for dense_layers in itertools.product(dense_layer_sizes, repeat=dense_depth):\n",
    "                    if counter > starter:\n",
    "                        callbacks = myCallback()\n",
    "                        model = make_model(list(cnn_layer_dim), list(dense_layers))\n",
    "                        history = model.fit(x_train, y_train,\n",
    "                            batch_size=batch_size,\n",
    "                            epochs=4,\n",
    "                            validation_split=0.1,\n",
    "                            callbacks=[callbacks])\n",
    "                        filename = f'model_configs/model{counter}_savefile'\n",
    "                        model.save(filename)\n",
    "                        \n",
    "                        yield model, str([cnn_layer_dim]), str([dense_layers]), batch_size, filename, history.history['acc'][-1], filename\n",
    "                    else:\n",
    "                        yield tf.keras.models.Sequential(), \"\", \"\", 0, \"\", 0, \"\"\n",
    "                    counter += 1\n",
    "                    \n",
    "    return \n",
    "\n",
    "#iterate_combinations()"
   ]
  },
  {
   "cell_type": "code",
   "execution_count": 112,
   "id": "e079f724",
   "metadata": {
    "scrolled": true
   },
   "outputs": [
    {
     "data": {
      "application/vnd.jupyter.widget-view+json": {
       "model_id": "9e78243d74e84628852c3dc428a02229",
       "version_major": 2,
       "version_minor": 0
      },
      "text/plain": [
       "Iterating models:   0%|          | 0/278461 [00:00<?, ?it/s]"
      ]
     },
     "metadata": {},
     "output_type": "display_data"
    },
    {
     "data": {
      "application/vnd.jupyter.widget-view+json": {
       "model_id": "cb0587f7921c453b8eaa5bf8b3af7e03",
       "version_major": 2,
       "version_minor": 0
      },
      "text/plain": [
       "Genetic algorithm:   0%|          | 0/250 [00:00<?, ?it/s]"
      ]
     },
     "metadata": {},
     "output_type": "display_data"
    },
    {
     "name": "stdout",
     "output_type": "stream",
     "text": [
      "Epoch 1/4\n",
      "844/844 [==============================] - 1s 1ms/step - loss: 0.3505 - acc: 0.9034 - val_loss: 0.1729 - val_acc: 0.9512\n",
      "Epoch 2/4\n",
      "844/844 [==============================] - 1s 1ms/step - loss: 0.1819 - acc: 0.9466 - val_loss: 0.1332 - val_acc: 0.9618\n",
      "Epoch 3/4\n",
      "844/844 [==============================] - 1s 1ms/step - loss: 0.1365 - acc: 0.9596 - val_loss: 0.1096 - val_acc: 0.9688\n",
      "Epoch 4/4\n",
      "844/844 [==============================] - 1s 960us/step - loss: 0.1108 - acc: 0.9672 - val_loss: 0.0999 - val_acc: 0.9710\n",
      "INFO:tensorflow:Assets written to: model_configs/model1_savefile/assets\n"
     ]
    },
    {
     "name": "stderr",
     "output_type": "stream",
     "text": [
      "INFO:tensorflow:Assets written to: model_configs/model1_savefile/assets\n",
      "\n",
      "KeyboardInterrupt\n",
      "\n"
     ]
    }
   ],
   "source": [
    "def create_random_screen(eps = 0.01):\n",
    "    return (np.random.rand(28,28) * 2 * eps) - eps\n",
    "\n",
    "def selection(scores):\n",
    "    #https://www.geeksforgeeks.org/python-indices-of-n-largest-elements-in-list/\n",
    "    return sorted(range(len(scores)), key = lambda sub: scores[sub])[-50:]\n",
    "\n",
    "def make_modifications(screen, randomness=0.001, eps=0.01):\n",
    "    new_screen = screen + (np.random.rand(28,28) - 0.5) * 2 * randomness\n",
    "    for i in range(28):\n",
    "        for j in range(28):\n",
    "            if new_screen[i][j] > eps:\n",
    "                new_screen[i][j] = eps\n",
    "            elif new_screen[i][j] < -eps:\n",
    "                new_screen[i][j] = -eps\n",
    "    return new_screen\n",
    "\n",
    "def random_indices(n, total):\n",
    "    L = [True] * n + [False] * (total - n)\n",
    "    random.shuffle(L)\n",
    "    return L\n",
    "\n",
    "def sample(n, screens):\n",
    "    index = random_indices(n, len(screens))\n",
    "    return np.array([screens[i] for i in range(len(screens)) if index[i]])\n",
    "\n",
    "def find_mean_var(m):\n",
    "    l = m.reshape(784)\n",
    "    return mean(l), variance(l)\n",
    "\n",
    "@lru_cache()\n",
    "def get_these_values(from_value):\n",
    "    return np.array([x_train[i] for i in range(len(x_train)) if y_train[i][from_value] == 1])\n",
    "\n",
    "def mean_difference_initialization(target, from_value, eps):\n",
    "    x_target = get_these_values(target)\n",
    "    x_from_value = get_these_values(from_value)\n",
    "    cur = np.zeros(28,28)\n",
    "    for _ in range(100):\n",
    "        cur += x_from_value[random.randint(0, len(x_from_value))] - x_target[random.randint(0, len(x_target))]\n",
    "    mean, var = find_mean_var(cur)\n",
    "    return (cur - mean) / sqrt(var) * eps\n",
    "\n",
    "def genetic_algorithm(model, pbar, eps=0.5, iterations=100, batch_size=100, randomness=0.01, target=7, from_value=1, init='rand'):\n",
    "    if init=='rand':\n",
    "        screens = [create_random_screen(eps=eps) for _ in range(batch_size)]\n",
    "    else:\n",
    "        screens = [mean_difference_initialization(target, from_value, eps) for _ in range(batch_size)]\n",
    "\n",
    "    #num_samples = 1280\n",
    "    x_train_no_target = get_these_values(from_value)\n",
    "    y_sample = tf.one_hot(np.array(([target] * len(x_train_no_target))), depth=10)\n",
    "    for i in range(iterations):\n",
    "        scores = [model.evaluate(np.array([elem + s.reshape(28,28,1) for elem in x_train_no_target]), y_sample, verbose=0)[1] for s in screens]\n",
    "        pbar.update(1)\n",
    "        \n",
    "        if i == iterations - 1:\n",
    "            return screens, scores\n",
    "        \n",
    "        index = selection(scores)\n",
    "        new_screens = []\n",
    "        for elem in index:\n",
    "            new_screens += [make_modifications(screens[elem], randomness=randomness, eps=eps) for i in range(2)]\n",
    "        screens = new_screens\n",
    "        del new_screens\n",
    "    return screens, scores\n",
    "\n",
    "def get_two_diff_numbers():\n",
    "    num1 = random.randint(0,9)\n",
    "    num2 = random.randint(0,9)\n",
    "    \n",
    "    while num1 == num2:\n",
    "        num2 = random.randint(0,9)\n",
    "    return num1, num2\n",
    "\n",
    "def send_to_github(model_counter, screens, scores, filename):\n",
    "    if os.path.exists(f'screens/model{model_counter}'):\n",
    "        os.system(f'rm -r screens/model{model_counter}')\n",
    "    os.mkdir(f'screens/model{model_counter}')\n",
    "    for i in range(len(screens)):\n",
    "        np.savetxt(f'screens/model{model_counter}/screen{i}.txt')\n",
    "    with open(f'screens/model{model_counter}/scores.txt', 'w') as file:\n",
    "        file.writelines(scores)\n",
    "    os.system(f\"git add screens/model{model_counter}\")\n",
    "    os.system(\"git add model_info.json\")\n",
    "    os.system(\"git add tracker.txt\")\n",
    "    os.system(f\"git add {filename}\")\n",
    "    os.system(f\"git commit -m \\\"Adding model{model_counter} info\\\"\")\n",
    "    os.system(\"git push origin main\")\n",
    "    os.system(f'rm -r screens/model{model_counter}')\n",
    "    os.system(f\"rm -r {filename}\")\n",
    "    return\n",
    "\n",
    "def run_project():\n",
    "    try:\n",
    "        with open('model_info.json', 'r') as file:\n",
    "            models_info = json.load(file)\n",
    "    except FileNotFoundError:\n",
    "        models_info = {\n",
    "            \"CNN\" : [],\n",
    "            \"Dense\" : [],\n",
    "            \"batch_size\" : [],\n",
    "            \"filename\" : [],\n",
    "            \"accuracy\" : [],\n",
    "            \"num1\" : [],\n",
    "            \"num2\" : []\n",
    "        }\n",
    "        \n",
    "    try:\n",
    "        with open('tracker.txt', 'r') as file:\n",
    "            starter = int(file.read())\n",
    "    except:\n",
    "        starter = -1\n",
    "        \n",
    "    counter = 0\n",
    "    pbar1 = tqdm(total=819 * 340 - starter+1, desc=\"Iterating models\", position=0)\n",
    "    pbar2 = tqdm(total=100, desc=\"Genetic algorithm\", position=1)\n",
    "        \n",
    "    for model, cnn_layer_dim, dense_layers, batch_size, filename, acc, filename in iterate_combinations(starter):\n",
    "        if counter > starter:\n",
    "            num1, num2 = get_two_diff_numbers()\n",
    "            models_info['CNN'].append(cnn_layer_dim)\n",
    "            models_info['Dense'].append(dense_layers)\n",
    "            models_info['batch_size'].append(batch_size)\n",
    "            models_info['filename'].append(filename)\n",
    "            models_info['accuracy'].append(acc)\n",
    "            models_info['num1'].append(num1)\n",
    "            models_info['num2'].append(num2)\n",
    "            \n",
    "            with open('model_info.json', 'w') as file:\n",
    "                json.dump(models_info, file)\n",
    "            \n",
    "            with open('tracker.txt', 'w') as file:\n",
    "                file.write(str(counter))\n",
    "            \n",
    "            pbar2.reset()\n",
    "            screens, scores = genetic_algorithm(model, pbar2, eps=0.1, iterations=100, target=num1, from_value=num2)\n",
    "            \n",
    "            send_to_github(counter, screens, scores, filename)\n",
    "            pbar1.update(1)\n",
    "            \n",
    "        counter += 1\n",
    "    return\n",
    "run_project()"
   ]
  },
  {
   "cell_type": "code",
   "execution_count": 102,
   "id": "59a6799a",
   "metadata": {},
   "outputs": [
    {
     "data": {
      "text/plain": [
       "False"
      ]
     },
     "execution_count": 102,
     "metadata": {},
     "output_type": "execute_result"
    }
   ],
   "source": []
  }
 ],
 "metadata": {
  "kernelspec": {
   "display_name": "Python 3 (ipykernel)",
   "language": "python",
   "name": "python3"
  },
  "language_info": {
   "codemirror_mode": {
    "name": "ipython",
    "version": 3
   },
   "file_extension": ".py",
   "mimetype": "text/x-python",
   "name": "python",
   "nbconvert_exporter": "python",
   "pygments_lexer": "ipython3",
   "version": "3.9.12"
  }
 },
 "nbformat": 4,
 "nbformat_minor": 5
}
