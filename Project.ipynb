{
 "cells": [
  {
   "cell_type": "code",
   "execution_count": 71,
   "id": "569ab156",
   "metadata": {},
   "outputs": [],
   "source": [
    "import warnings\n",
    "warnings.filterwarnings(\"ignore\")\n",
    "import tensorflow as tf\n",
    "import pandas as pd\n",
    "from sklearn.model_selection import train_test_split\n",
    "import numpy as np\n",
    "import matplotlib.pyplot as plt\n",
    "import random\n",
    "from tqdm.notebook import tqdm\n",
    "from statistics import mean, variance\n",
    "from functools import lru_cache\n",
    "from math import sqrt\n",
    "from typing import List, Tuple\n",
    "import itertools\n",
    "import json"
   ]
  },
  {
   "cell_type": "code",
   "execution_count": 2,
   "id": "d8287844",
   "metadata": {},
   "outputs": [],
   "source": [
    "mnist = tf.keras.datasets.mnist\n",
    "(x_train, y_train), (x_test, y_test) = mnist.load_data()"
   ]
  },
  {
   "cell_type": "code",
   "execution_count": 3,
   "id": "407f2b5c",
   "metadata": {},
   "outputs": [
    {
     "name": "stderr",
     "output_type": "stream",
     "text": [
      "2025-01-08 16:04:39.630788: I tensorflow/core/platform/cpu_feature_guard.cc:193] This TensorFlow binary is optimized with oneAPI Deep Neural Network Library (oneDNN) to use the following CPU instructions in performance-critical operations:  SSE4.1 SSE4.2\n",
      "To enable them in other operations, rebuild TensorFlow with the appropriate compiler flags.\n"
     ]
    }
   ],
   "source": [
    "#Initializing parameters\n",
    "input_shape = (28, 28, 1)\n",
    "batch_size = 64\n",
    "num_classes = 10\n",
    "epochs = 5\n",
    "\n",
    "#Cleaning data\n",
    "x_train=x_train.reshape(x_train.shape[0], x_train.shape[1], x_train.shape[2], 1)\n",
    "x_train=x_train / 255.0\n",
    "x_test = x_test.reshape(x_test.shape[0], x_test.shape[1], x_test.shape[2], 1)\n",
    "x_test=x_test/255.0\n",
    "\n",
    "y_train = tf.one_hot(y_train.astype(np.int32), depth=10)\n",
    "y_test = tf.one_hot(y_test.astype(np.int32), depth=10)"
   ]
  },
  {
   "cell_type": "code",
   "execution_count": 22,
   "id": "50d1087a",
   "metadata": {},
   "outputs": [],
   "source": [
    "def make_model(\n",
    "    cnn_layer_sizes : List[Tuple[int, Tuple[int, int]]],\n",
    "    dense_layer_sizes : List[int],\n",
    "    activation_function : str\n",
    "):\n",
    "    model = tf.keras.models.Sequential()\n",
    "    model.add(tf.keras.Input(input_shape))\n",
    "    for i in range(len(cnn_layer_sizes)-1):\n",
    "        model.add(tf.keras.layers.Conv2D(cnn_layer_sizes[i][0], cnn_layer_sizes[i][1], activation=activation_function))\n",
    "        model.add(tf.keras.layers.MaxPooling2D((2, 2)))\n",
    "    if len(cnn_layer_sizes) > 0:\n",
    "        model.add(tf.keras.layers.Conv2D(cnn_layer_sizes[-1][0], cnn_layer_sizes[-1][1], activation=activation_function))\n",
    "    model.add(tf.keras.layers.Flatten())\n",
    "    for elem in dense_layer_sizes:\n",
    "        model.add(tf.keras.layers.Dense(elem, activation = activation_function))\n",
    "    model.add(tf.keras.layers.Dense(10, activation = 'softmax'))\n",
    "    model.compile(optimizer=tf.keras.optimizers.RMSprop(epsilon=1e-08), loss='categorical_crossentropy', metrics=['acc'])\n",
    "    return model\n",
    "\n",
    "def find_screens_that_mess_with_model(model):\n",
    "    pass"
   ]
  },
  {
   "cell_type": "code",
   "execution_count": 32,
   "id": "d27c5b11",
   "metadata": {
    "scrolled": true
   },
   "outputs": [
    {
     "name": "stdout",
     "output_type": "stream",
     "text": [
      "Epoch 1/5\n",
      "844/844 [==============================] - 5s 5ms/step - loss: 0.2601 - acc: 0.9242 - val_loss: 0.0822 - val_acc: 0.9770\n",
      "Epoch 2/5\n",
      "844/844 [==============================] - 4s 5ms/step - loss: 0.0852 - acc: 0.9752 - val_loss: 0.0606 - val_acc: 0.9818\n",
      "Epoch 3/5\n",
      "844/844 [==============================] - 4s 5ms/step - loss: 0.0586 - acc: 0.9818 - val_loss: 0.0632 - val_acc: 0.9832\n",
      "Epoch 4/5\n",
      "844/844 [==============================] - 4s 5ms/step - loss: 0.0450 - acc: 0.9863 - val_loss: 0.0583 - val_acc: 0.9858\n",
      "Epoch 5/5\n",
      "844/844 [==============================] - 4s 5ms/step - loss: 0.0365 - acc: 0.9884 - val_loss: 0.0687 - val_acc: 0.9810\n"
     ]
    }
   ],
   "source": [
    "class myCallback(tf.keras.callbacks.Callback):\n",
    "    def on_epoch_end(self, epoch, logs={}):\n",
    "        if(logs.get('acc')>0.995):\n",
    "            print(\"\\nReached 99.5% accuracy so cancelling training!\")\n",
    "            self.modelel.stop_training = True\n",
    "\n",
    "callbacks = myCallback()\n",
    "\n",
    "model = make_model([(10, (5,5)), (5, (3,3))], [64, 64], 'tanh')\n",
    "\n",
    "history = model.fit(x_train, y_train,\n",
    "                    batch_size=batch_size,\n",
    "                    epochs=5,\n",
    "                    validation_split=0.1,\n",
    "                    callbacks=[callbacks])"
   ]
  },
  {
   "cell_type": "code",
   "execution_count": 45,
   "id": "fa87b711",
   "metadata": {},
   "outputs": [
    {
     "data": {
      "text/plain": [
       "{'name': 'sequential_15',\n",
       " 'layers': [{'class_name': 'InputLayer',\n",
       "   'config': {'batch_input_shape': (None, 28, 28, 1),\n",
       "    'dtype': 'float32',\n",
       "    'sparse': False,\n",
       "    'ragged': False,\n",
       "    'name': 'input_13'}},\n",
       "  {'class_name': 'Conv2D',\n",
       "   'config': {'name': 'conv2d_15',\n",
       "    'trainable': True,\n",
       "    'dtype': 'float32',\n",
       "    'filters': 10,\n",
       "    'kernel_size': (5, 5),\n",
       "    'strides': (1, 1),\n",
       "    'padding': 'valid',\n",
       "    'data_format': 'channels_last',\n",
       "    'dilation_rate': (1, 1),\n",
       "    'groups': 1,\n",
       "    'activation': 'tanh',\n",
       "    'use_bias': True,\n",
       "    'kernel_initializer': {'class_name': 'GlorotUniform',\n",
       "     'config': {'seed': None}},\n",
       "    'bias_initializer': {'class_name': 'Zeros', 'config': {}},\n",
       "    'kernel_regularizer': None,\n",
       "    'bias_regularizer': None,\n",
       "    'activity_regularizer': None,\n",
       "    'kernel_constraint': None,\n",
       "    'bias_constraint': None}},\n",
       "  {'class_name': 'MaxPooling2D',\n",
       "   'config': {'name': 'max_pooling2d_4',\n",
       "    'trainable': True,\n",
       "    'dtype': 'float32',\n",
       "    'pool_size': (2, 2),\n",
       "    'padding': 'valid',\n",
       "    'strides': (2, 2),\n",
       "    'data_format': 'channels_last'}},\n",
       "  {'class_name': 'Conv2D',\n",
       "   'config': {'name': 'conv2d_16',\n",
       "    'trainable': True,\n",
       "    'dtype': 'float32',\n",
       "    'filters': 5,\n",
       "    'kernel_size': (3, 3),\n",
       "    'strides': (1, 1),\n",
       "    'padding': 'valid',\n",
       "    'data_format': 'channels_last',\n",
       "    'dilation_rate': (1, 1),\n",
       "    'groups': 1,\n",
       "    'activation': 'tanh',\n",
       "    'use_bias': True,\n",
       "    'kernel_initializer': {'class_name': 'GlorotUniform',\n",
       "     'config': {'seed': None}},\n",
       "    'bias_initializer': {'class_name': 'Zeros', 'config': {}},\n",
       "    'kernel_regularizer': None,\n",
       "    'bias_regularizer': None,\n",
       "    'activity_regularizer': None,\n",
       "    'kernel_constraint': None,\n",
       "    'bias_constraint': None}},\n",
       "  {'class_name': 'Flatten',\n",
       "   'config': {'name': 'flatten_11',\n",
       "    'trainable': True,\n",
       "    'dtype': 'float32',\n",
       "    'data_format': 'channels_last'}},\n",
       "  {'class_name': 'Dense',\n",
       "   'config': {'name': 'dense_33',\n",
       "    'trainable': True,\n",
       "    'dtype': 'float32',\n",
       "    'units': 64,\n",
       "    'activation': 'tanh',\n",
       "    'use_bias': True,\n",
       "    'kernel_initializer': {'class_name': 'GlorotUniform',\n",
       "     'config': {'seed': None}},\n",
       "    'bias_initializer': {'class_name': 'Zeros', 'config': {}},\n",
       "    'kernel_regularizer': None,\n",
       "    'bias_regularizer': None,\n",
       "    'activity_regularizer': None,\n",
       "    'kernel_constraint': None,\n",
       "    'bias_constraint': None}},\n",
       "  {'class_name': 'Dense',\n",
       "   'config': {'name': 'dense_34',\n",
       "    'trainable': True,\n",
       "    'dtype': 'float32',\n",
       "    'units': 64,\n",
       "    'activation': 'tanh',\n",
       "    'use_bias': True,\n",
       "    'kernel_initializer': {'class_name': 'GlorotUniform',\n",
       "     'config': {'seed': None}},\n",
       "    'bias_initializer': {'class_name': 'Zeros', 'config': {}},\n",
       "    'kernel_regularizer': None,\n",
       "    'bias_regularizer': None,\n",
       "    'activity_regularizer': None,\n",
       "    'kernel_constraint': None,\n",
       "    'bias_constraint': None}},\n",
       "  {'class_name': 'Dense',\n",
       "   'config': {'name': 'dense_35',\n",
       "    'trainable': True,\n",
       "    'dtype': 'float32',\n",
       "    'units': 10,\n",
       "    'activation': 'softmax',\n",
       "    'use_bias': True,\n",
       "    'kernel_initializer': {'class_name': 'GlorotUniform',\n",
       "     'config': {'seed': None}},\n",
       "    'bias_initializer': {'class_name': 'Zeros', 'config': {}},\n",
       "    'kernel_regularizer': None,\n",
       "    'bias_regularizer': None,\n",
       "    'activity_regularizer': None,\n",
       "    'kernel_constraint': None,\n",
       "    'bias_constraint': None}}]}"
      ]
     },
     "execution_count": 45,
     "metadata": {},
     "output_type": "execute_result"
    }
   ],
   "source": [
    "model.get_config()\n",
    "#history.history['acc'][-1]"
   ]
  },
  {
   "cell_type": "code",
   "execution_count": 66,
   "id": "0cff45f9",
   "metadata": {},
   "outputs": [],
   "source": [
    "#CONFIGURATIONS\n",
    "cnn_layer_depth = [1,2,3]\n",
    "cnn_layer_dimensions = [(2,2), (3,3), (4,4), (5,5)]\n",
    "num_cnn_layers = [1,2,3]\n",
    "num_dense_layers = [1,2,3,4]\n",
    "dense_layer_sizes = [16, 32, 64, 128, 256]\n",
    "activation_functions = ['relu', 'sigmoid', 'tanh']\n",
    "epochs = [1,2,3,4,5]\n",
    "\n",
    "def gen_cnn_layer_combinations():\n",
    "    L = []\n",
    "    for layer in num_cnn_layers:\n",
    "        for dim in cnn_layer_dimensions:\n",
    "            L.append((layer, dim))\n",
    "    return L\n",
    "\n",
    "def iterate_combinations():\n",
    "    counter = 0\n",
    "    pbar = tqdm(total = 1884 * 780 * 3 * 5)\n",
    "    for cnn_depth in cnn_layer_depth:\n",
    "        for cnn_layer_dim in itertools.product(gen_cnn_layer_combinations(), repeat=cnn_depth):\n",
    "            for dense_depth in num_dense_layers:\n",
    "                for dense_layers in itertools.product(dense_layer_sizes, repeat=dense_depth):\n",
    "                    for a_func in activation_functions:\n",
    "                        for epoch in epochs:\n",
    "                            callbacks = myCallback()\n",
    "                            model = make_model(list(cnn_layer_dim), list(dense_layers), a_func)\n",
    "                            history = model.fit(x_train, y_train,\n",
    "                                batch_size=batch_size,\n",
    "                                epochs=epoch,\n",
    "                                validation_split=0.1,\n",
    "                                callbacks=[callbacks])\n",
    "                            filename = f'model_configs/model{counter}.json'\n",
    "                            model.save(filename)\n",
    "                            counter += 1\n",
    "                            pbar.update(1)\n",
    "                            yield model, filename, history.history['acc'][-1]"
   ]
  },
  {
   "cell_type": "code",
   "execution_count": 70,
   "id": "ac1787e2",
   "metadata": {},
   "outputs": [
    {
     "data": {
      "text/plain": [
       "780"
      ]
     },
     "execution_count": 70,
     "metadata": {},
     "output_type": "execute_result"
    }
   ],
   "source": [
    "counter = 0\n",
    "for i in num_dense_layers:\n",
    "    for v in itertools.product(dense_layer_sizes, repeat=i):\n",
    "        counter += 1\n",
    "counter"
   ]
  },
  {
   "cell_type": "code",
   "execution_count": null,
   "id": "acf4921c",
   "metadata": {},
   "outputs": [],
   "source": []
  },
  {
   "cell_type": "code",
   "execution_count": 58,
   "id": "5089792c",
   "metadata": {},
   "outputs": [],
   "source": [
    "def gen_cnn_layer_combinations():\n",
    "    L = []\n",
    "    for layer in num_cnn_layers:\n",
    "        for dim in cnn_layer_dimensions:\n",
    "            L.append([layer, dim])\n",
    "    return L"
   ]
  },
  {
   "cell_type": "code",
   "execution_count": null,
   "id": "96c520e2",
   "metadata": {},
   "outputs": [],
   "source": []
  }
 ],
 "metadata": {
  "kernelspec": {
   "display_name": "Python 3 (ipykernel)",
   "language": "python",
   "name": "python3"
  },
  "language_info": {
   "codemirror_mode": {
    "name": "ipython",
    "version": 3
   },
   "file_extension": ".py",
   "mimetype": "text/x-python",
   "name": "python",
   "nbconvert_exporter": "python",
   "pygments_lexer": "ipython3",
   "version": "3.9.12"
  }
 },
 "nbformat": 4,
 "nbformat_minor": 5
}
